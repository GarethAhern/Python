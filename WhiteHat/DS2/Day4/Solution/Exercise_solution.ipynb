{
 "cells": [
  {
   "cell_type": "code",
   "execution_count": null,
   "metadata": {},
   "outputs": [],
   "source": [
    "#Importing all libraries for later use. \n",
    "\n",
    "import pandas as pd\n",
    "import numpy as np\n",
    "import matplotlib.pyplot as plt\n",
    "\n",
    "plt.style.use('fivethirtyeight')\n",
    "%matplotlib inline\n",
    "\n",
    "# Increase default figure and font sizes for easier viewing.\n",
    "plt.rcParams['figure.figsize'] = (8, 8)\n",
    "plt.rcParams['font.size'] = 14"
   ]
  },
  {
   "cell_type": "code",
   "execution_count": null,
   "metadata": {},
   "outputs": [],
   "source": [
    "# Read in the terminal/transit data.\n",
    "tt_pax_data = '../data/terminal_transit_pax_data.csv'\n",
    "df= pd.read_csv(tt_pax_data)\n",
    "\n",
    "df.head()\n",
    "\n",
    "\n",
    "#Using the same code as yesterday to read the data in "
   ]
  },
  {
   "cell_type": "markdown",
   "metadata": {},
   "source": [
    "## 1) Data prep/clean\n",
    "We can clean the data in a similar way to what we saw yesterday. Below will replace all of the null values in specified columns into -100"
   ]
  },
  {
   "cell_type": "code",
   "execution_count": null,
   "metadata": {},
   "outputs": [],
   "source": [
    "# Specify the colums we want in a list\n",
    "columns = ['total_pax_percent','terminal_pax_percent','transit_pax_percent'] \n",
    "\n",
    "df[columns] = df[columns].replace('Null',-100) # using 'inplace' give memory warnings\n",
    "\n",
    "\n",
    "# NOTE Transit pax percent has some values that should be null, some that are actually -100% \n",
    "\n",
    "df"
   ]
  },
  {
   "cell_type": "markdown",
   "metadata": {},
   "source": [
    "### 2) Change the datatypes appropriately \n",
    "\n",
    "Change the datatypes of total_pax_percent, terminal_pax_percent, transit_pax_percent into floats "
   ]
  },
  {
   "cell_type": "code",
   "execution_count": null,
   "metadata": {},
   "outputs": [],
   "source": [
    "columns_to_convert = {'total_pax_percent':'float64',\n",
    "                     'terminal_pax_percent':'float64',\n",
    "                     'transit_pax_percent':'float64'}\n",
    "df=df.astype(columns_to_convert)\n",
    "df.dtypes"
   ]
  },
  {
   "cell_type": "markdown",
   "metadata": {},
   "source": [
    "### 2.1) [Optional] Round your values \n",
    "You can choose to round your values to the nearest 2 deciman points "
   ]
  },
  {
   "cell_type": "code",
   "execution_count": null,
   "metadata": {},
   "outputs": [],
   "source": [
    "cols = ['total_pax_percent','terminal_pax_percent','transit_pax_percent']\n",
    "df[cols] = df[cols].round(2)\n",
    "\n",
    "df"
   ]
  },
  {
   "cell_type": "markdown",
   "metadata": {},
   "source": [
    "### 3) Display the descriptive stastics \n",
    "Use the 'describe()' function to describe the dataframe"
   ]
  },
  {
   "cell_type": "code",
   "execution_count": null,
   "metadata": {},
   "outputs": [],
   "source": [
    "df.describe()\n",
    "df.describe(include='all')"
   ]
  },
  {
   "cell_type": "markdown",
   "metadata": {},
   "source": [
    "### 4) Displaying descriptive stats for reporting airports\n",
    "Use Groupby to display descriptive statistics for the different reporting airport group names\n"
   ]
  },
  {
   "cell_type": "code",
   "execution_count": null,
   "metadata": {},
   "outputs": [],
   "source": [
    "pd.set_option(\"display.max_columns\", None) # This allows you to have no limit to the amount of columns you can see\n",
    "df.groupby('reporting_airport_group_name').describe()\n"
   ]
  },
  {
   "cell_type": "markdown",
   "metadata": {},
   "source": [
    "### 4.1 ) Displaying descriptive stats for reporting airports only showing passenger data (Terminal percent, transit percent and total percent)"
   ]
  },
  {
   "cell_type": "code",
   "execution_count": 2,
   "metadata": {},
   "outputs": [
    {
     "ename": "NameError",
     "evalue": "name 'df' is not defined",
     "output_type": "error",
     "traceback": [
      "\u001b[1;31m---------------------------------------------------------------------------\u001b[0m",
      "\u001b[1;31mNameError\u001b[0m                                 Traceback (most recent call last)",
      "\u001b[1;32m<ipython-input-2-2588311306b4>\u001b[0m in \u001b[0;36m<module>\u001b[1;34m\u001b[0m\n\u001b[0;32m      1\u001b[0m \u001b[0mcols\u001b[0m \u001b[1;33m=\u001b[0m \u001b[1;33m[\u001b[0m\u001b[1;34m'terminal_pax_percent'\u001b[0m\u001b[1;33m,\u001b[0m\u001b[1;34m'transit_pax_percent'\u001b[0m\u001b[1;33m,\u001b[0m\u001b[1;34m'total_pax_percent'\u001b[0m\u001b[1;33m]\u001b[0m\u001b[1;33m\u001b[0m\u001b[1;33m\u001b[0m\u001b[0m\n\u001b[1;32m----> 2\u001b[1;33m \u001b[0mdf\u001b[0m\u001b[1;33m.\u001b[0m\u001b[0mgroupby\u001b[0m\u001b[1;33m(\u001b[0m\u001b[1;34m'reporting_airport_group_name'\u001b[0m\u001b[1;33m)\u001b[0m\u001b[1;33m[\u001b[0m\u001b[0mcols\u001b[0m\u001b[1;33m]\u001b[0m\u001b[1;33m.\u001b[0m\u001b[0mdescribe\u001b[0m\u001b[1;33m(\u001b[0m\u001b[1;33m)\u001b[0m\u001b[1;33m\u001b[0m\u001b[1;33m\u001b[0m\u001b[0m\n\u001b[0m",
      "\u001b[1;31mNameError\u001b[0m: name 'df' is not defined"
     ]
    }
   ],
   "source": [
    "cols = ['terminal_pax_percent','transit_pax_percent','total_pax_percent']\n",
    "df.groupby('reporting_airport_group_name')[cols].describe()"
   ]
  },
  {
   "cell_type": "markdown",
   "metadata": {},
   "source": [
    "### 5) Display the correlations across the dataframe"
   ]
  },
  {
   "cell_type": "code",
   "execution_count": null,
   "metadata": {},
   "outputs": [],
   "source": [
    "df.head()"
   ]
  },
  {
   "cell_type": "code",
   "execution_count": null,
   "metadata": {},
   "outputs": [],
   "source": [
    "df.corr()"
   ]
  },
  {
   "cell_type": "markdown",
   "metadata": {},
   "source": [
    "### 5.1) Show the correlation for pax data \n",
    "\n",
    "pax data is what I will use to refer to ['terminal_pax_percent','transit_pax_percent','total_pax_percent']\n",
    "\n",
    "You may also find other correlations that exist in the database"
   ]
  },
  {
   "cell_type": "code",
   "execution_count": null,
   "metadata": {},
   "outputs": [],
   "source": [
    "cols = ['terminal_pax_percent','transit_pax_percent','total_pax_percent']\n",
    "df[cols].corr()"
   ]
  },
  {
   "cell_type": "markdown",
   "metadata": {},
   "source": [
    "### 5.2) Show the correlation for pax data grouped by different reporting airport groups\n",
    "Pax data = ['terminal_pax_percent','transit_pax_percent','total_pax_percent']"
   ]
  },
  {
   "cell_type": "code",
   "execution_count": null,
   "metadata": {},
   "outputs": [],
   "source": [
    "cols = ['terminal_pax_percent','transit_pax_percent','total_pax_percent']\n",
    "df.groupby('reporting_airport_group_name')[cols].corr()"
   ]
  },
  {
   "cell_type": "markdown",
   "metadata": {},
   "source": [
    "### 6) Find the Covariance of the dataframe only using the Pax data "
   ]
  },
  {
   "cell_type": "code",
   "execution_count": null,
   "metadata": {},
   "outputs": [],
   "source": [
    "cols = ['terminal_pax_percent','transit_pax_percent','total_pax_percent']\n",
    "df[cols].cov()"
   ]
  },
  {
   "cell_type": "markdown",
   "metadata": {},
   "source": [
    "# Question to think \n",
    "What does the covariance between the total passenger data and the terminal passenger data tell you? \n",
    "\n",
    "Hint: The covariance is positive..."
   ]
  },
  {
   "cell_type": "markdown",
   "metadata": {},
   "source": [
    "# Missing Data \n",
    "You'll have a chance to remove some data from the dataframe (Even though we aren't getting into the Machine Learning aspect on the course *yet*)"
   ]
  },
  {
   "cell_type": "code",
   "execution_count": null,
   "metadata": {},
   "outputs": [],
   "source": [
    "df.head()"
   ]
  },
  {
   "cell_type": "markdown",
   "metadata": {},
   "source": [
    "### 7) Drop off the dates for this_period and last_period "
   ]
  },
  {
   "cell_type": "code",
   "execution_count": null,
   "metadata": {},
   "outputs": [],
   "source": [
    "# Create a list of the column names that you want to drop\n",
    "\n",
    "# use df.drop \n",
    "cols = ['this_period','last_period']\n",
    "df.drop(columns=cols)"
   ]
  },
  {
   "cell_type": "markdown",
   "metadata": {},
   "source": [
    "### 8) Remove first 3 rows from the dataframe \n",
    "This task is purely for practice, this dataset does not require any records removed from it. "
   ]
  },
  {
   "cell_type": "code",
   "execution_count": null,
   "metadata": {},
   "outputs": [],
   "source": [
    "# Create a list of the rows index you will like to remove \n",
    "#use df.drop \n",
    "\n",
    "rows = [0,1,2]\n",
    "df.drop(rows)"
   ]
  }
 ],
 "metadata": {
  "kernelspec": {
   "display_name": "Python 3",
   "language": "python",
   "name": "python3"
  },
  "language_info": {
   "codemirror_mode": {
    "name": "ipython",
    "version": 3
   },
   "file_extension": ".py",
   "mimetype": "text/x-python",
   "name": "python",
   "nbconvert_exporter": "python",
   "pygments_lexer": "ipython3",
   "version": "3.8.5"
  }
 },
 "nbformat": 4,
 "nbformat_minor": 4
}
