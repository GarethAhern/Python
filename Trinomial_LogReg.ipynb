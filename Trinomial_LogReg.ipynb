{
 "cells": [
  {
   "cell_type": "markdown",
   "metadata": {},
   "source": [
    "LinearRegression only works for binomial expressions.\n",
    "But if we use get_dummies "
   ]
  },
  {
   "cell_type": "code",
   "execution_count": null,
   "metadata": {},
   "outputs": [],
   "source": [
    "import pandas as pd\n",
    "\n",
    "transport_df = pd.read_csv(r'C:\\Users\\Gareth.Ahern\\Desktop\\LinRegTesting.csv')\n",
    "transport_df.head()"
   ]
  },
  {
   "cell_type": "markdown",
   "metadata": {},
   "source": [
    "This is a made up data set\n",
    "Car\n",
    "Speed between 1 and 4\n",
    "Altitude between 0 and 3\n",
    "Environment between 3 and 7\n",
    "\n",
    "Plane\n",
    "Speed between 6 and 10\n",
    "Altitude between 6 and 10\n",
    "Environment between 0 and 3\n",
    "\n",
    "\n",
    "Train\n",
    "Speed between 4 and 7\n",
    "Altitude between 0 and 3\n",
    "Environment between 7 and 10"
   ]
  },
  {
   "cell_type": "code",
   "execution_count": 106,
   "metadata": {},
   "outputs": [
    {
     "data": {
      "text/plain": [
       "Car      20\n",
       "Plane    21\n",
       "Train    20\n",
       "Name: transport, dtype: int64"
      ]
     },
     "execution_count": 106,
     "metadata": {},
     "output_type": "execute_result"
    }
   ],
   "source": [
    "transport_df.transport.value_counts().sort_index()"
   ]
  },
  {
   "cell_type": "markdown",
   "metadata": {},
   "source": [
    "We have 20 records of each type, and one extra for Plane..."
   ]
  },
  {
   "cell_type": "code",
   "execution_count": 88,
   "metadata": {},
   "outputs": [
    {
     "data": {
      "text/html": [
       "<div>\n",
       "<style scoped>\n",
       "    .dataframe tbody tr th:only-of-type {\n",
       "        vertical-align: middle;\n",
       "    }\n",
       "\n",
       "    .dataframe tbody tr th {\n",
       "        vertical-align: top;\n",
       "    }\n",
       "\n",
       "    .dataframe thead th {\n",
       "        text-align: right;\n",
       "    }\n",
       "</style>\n",
       "<table border=\"1\" class=\"dataframe\">\n",
       "  <thead>\n",
       "    <tr style=\"text-align: right;\">\n",
       "      <th></th>\n",
       "      <th>max_speed</th>\n",
       "      <th>max_altitude</th>\n",
       "      <th>environment</th>\n",
       "    </tr>\n",
       "  </thead>\n",
       "  <tbody>\n",
       "    <tr>\n",
       "      <th>count</th>\n",
       "      <td>61.000000</td>\n",
       "      <td>61.000000</td>\n",
       "      <td>61.000000</td>\n",
       "    </tr>\n",
       "    <tr>\n",
       "      <th>mean</th>\n",
       "      <td>5.229508</td>\n",
       "      <td>3.508197</td>\n",
       "      <td>4.934426</td>\n",
       "    </tr>\n",
       "    <tr>\n",
       "      <th>std</th>\n",
       "      <td>2.824851</td>\n",
       "      <td>3.253833</td>\n",
       "      <td>2.971357</td>\n",
       "    </tr>\n",
       "    <tr>\n",
       "      <th>min</th>\n",
       "      <td>1.000000</td>\n",
       "      <td>0.000000</td>\n",
       "      <td>0.000000</td>\n",
       "    </tr>\n",
       "    <tr>\n",
       "      <th>25%</th>\n",
       "      <td>3.000000</td>\n",
       "      <td>1.000000</td>\n",
       "      <td>3.000000</td>\n",
       "    </tr>\n",
       "    <tr>\n",
       "      <th>50%</th>\n",
       "      <td>6.000000</td>\n",
       "      <td>2.000000</td>\n",
       "      <td>5.000000</td>\n",
       "    </tr>\n",
       "    <tr>\n",
       "      <th>75%</th>\n",
       "      <td>7.000000</td>\n",
       "      <td>7.000000</td>\n",
       "      <td>7.000000</td>\n",
       "    </tr>\n",
       "    <tr>\n",
       "      <th>max</th>\n",
       "      <td>10.000000</td>\n",
       "      <td>10.000000</td>\n",
       "      <td>10.000000</td>\n",
       "    </tr>\n",
       "  </tbody>\n",
       "</table>\n",
       "</div>"
      ],
      "text/plain": [
       "       max_speed  max_altitude  environment\n",
       "count  61.000000     61.000000    61.000000\n",
       "mean    5.229508      3.508197     4.934426\n",
       "std     2.824851      3.253833     2.971357\n",
       "min     1.000000      0.000000     0.000000\n",
       "25%     3.000000      1.000000     3.000000\n",
       "50%     6.000000      2.000000     5.000000\n",
       "75%     7.000000      7.000000     7.000000\n",
       "max    10.000000     10.000000    10.000000"
      ]
     },
     "execution_count": 88,
     "metadata": {},
     "output_type": "execute_result"
    }
   ],
   "source": [
    "transport_df.describe()"
   ]
  },
  {
   "cell_type": "markdown",
   "metadata": {},
   "source": [
    "In this plot you can see thta Plane has one outlier:"
   ]
  },
  {
   "cell_type": "code",
   "execution_count": 118,
   "metadata": {},
   "outputs": [
    {
     "data": {
      "image/png": "[encoded data removed]",
      "text/plain": [
       "<Figure size 1080x360 with 3 Axes>"
      ]
     },
     "metadata": {
      "needs_background": "light"
     },
     "output_type": "display_data"
    }
   ],
   "source": [
    "fig, axs = plt.subplots(1,3, figsize=(15, 5))\n",
    "\n",
    "transport_df.boxplot(column='max_speed', by='transport', ax=axs[0]);\n",
    "transport_df.boxplot(column='environment', by='transport', ax=axs[1]);\n",
    "transport_df.boxplot(column='max_altitude', by='transport', ax=axs[2]);"
   ]
  },
  {
   "cell_type": "code",
   "execution_count": 89,
   "metadata": {
    "scrolled": true
   },
   "outputs": [],
   "source": [
    "import seaborn as sns\n",
    "import matplotlib.pyplot as plt\n",
    "%matplotlib inline"
   ]
  },
  {
   "cell_type": "code",
   "execution_count": 122,
   "metadata": {},
   "outputs": [
    {
     "data": {
      "image/png": "[encoded data removed]",
      "text/plain": [
       "<Figure size 423.5x360 with 1 Axes>"
      ]
     },
     "metadata": {
      "needs_background": "light"
     },
     "output_type": "display_data"
    }
   ],
   "source": [
    "sns.lmplot(x='max_speed', y='environment', data=transport_df, ci=None, hue='transport');\n",
    "plt.xlim(0, 10);\n",
    "plt.ylim(0, 10);"
   ]
  },
  {
   "cell_type": "code",
   "execution_count": 131,
   "metadata": {},
   "outputs": [
    {
     "data": {
      "image/png": "[encoded data removed]",
      "text/plain": [
       "<Figure size 423.5x360 with 1 Axes>"
      ]
     },
     "metadata": {
      "needs_background": "light"
     },
     "output_type": "display_data"
    }
   ],
   "source": [
    "sns.lmplot(x='max_speed', y='max_altitude', data=transport_df, ci=None, hue='transport');"
   ]
  },
  {
   "cell_type": "code",
   "execution_count": 91,
   "metadata": {},
   "outputs": [
    {
     "data": {
      "image/png": "[encoded data removed]",
      "text/plain": [
       "<Figure size 423.5x360 with 1 Axes>"
      ]
     },
     "metadata": {
      "needs_background": "light"
     },
     "output_type": "display_data"
    }
   ],
   "source": [
    "sns.lmplot(x='environment', y='max_altitude', data=transport_df, ci=None, hue='transport');"
   ]
  },
  {
   "cell_type": "markdown",
   "metadata": {},
   "source": [
    "Lets create 3 dummy columns that have boolean expression showing if transport is a Car/Train/Plane"
   ]
  },
  {
   "cell_type": "code",
   "execution_count": 92,
   "metadata": {},
   "outputs": [
    {
     "data": {
      "text/html": [
       "<div>\n",
       "<style scoped>\n",
       "    .dataframe tbody tr th:only-of-type {\n",
       "        vertical-align: middle;\n",
       "    }\n",
       "\n",
       "    .dataframe tbody tr th {\n",
       "        vertical-align: top;\n",
       "    }\n",
       "\n",
       "    .dataframe thead th {\n",
       "        text-align: right;\n",
       "    }\n",
       "</style>\n",
       "<table border=\"1\" class=\"dataframe\">\n",
       "  <thead>\n",
       "    <tr style=\"text-align: right;\">\n",
       "      <th></th>\n",
       "      <th>max_speed</th>\n",
       "      <th>max_altitude</th>\n",
       "      <th>environment</th>\n",
       "      <th>transport</th>\n",
       "      <th>tran_Car</th>\n",
       "      <th>tran_Plane</th>\n",
       "      <th>tran_Train</th>\n",
       "    </tr>\n",
       "  </thead>\n",
       "  <tbody>\n",
       "    <tr>\n",
       "      <th>0</th>\n",
       "      <td>6</td>\n",
       "      <td>8</td>\n",
       "      <td>3</td>\n",
       "      <td>Plane</td>\n",
       "      <td>0</td>\n",
       "      <td>1</td>\n",
       "      <td>0</td>\n",
       "    </tr>\n",
       "    <tr>\n",
       "      <th>1</th>\n",
       "      <td>10</td>\n",
       "      <td>9</td>\n",
       "      <td>3</td>\n",
       "      <td>Plane</td>\n",
       "      <td>0</td>\n",
       "      <td>1</td>\n",
       "      <td>0</td>\n",
       "    </tr>\n",
       "    <tr>\n",
       "      <th>2</th>\n",
       "      <td>7</td>\n",
       "      <td>6</td>\n",
       "      <td>2</td>\n",
       "      <td>Plane</td>\n",
       "      <td>0</td>\n",
       "      <td>1</td>\n",
       "      <td>0</td>\n",
       "    </tr>\n",
       "    <tr>\n",
       "      <th>3</th>\n",
       "      <td>7</td>\n",
       "      <td>7</td>\n",
       "      <td>0</td>\n",
       "      <td>Plane</td>\n",
       "      <td>0</td>\n",
       "      <td>1</td>\n",
       "      <td>0</td>\n",
       "    </tr>\n",
       "    <tr>\n",
       "      <th>4</th>\n",
       "      <td>7</td>\n",
       "      <td>7</td>\n",
       "      <td>1</td>\n",
       "      <td>Plane</td>\n",
       "      <td>0</td>\n",
       "      <td>1</td>\n",
       "      <td>0</td>\n",
       "    </tr>\n",
       "  </tbody>\n",
       "</table>\n",
       "</div>"
      ],
      "text/plain": [
       "   max_speed  max_altitude  environment transport  tran_Car  tran_Plane  \\\n",
       "0          6             8            3     Plane         0           1   \n",
       "1         10             9            3     Plane         0           1   \n",
       "2          7             6            2     Plane         0           1   \n",
       "3          7             7            0     Plane         0           1   \n",
       "4          7             7            1     Plane         0           1   \n",
       "\n",
       "   tran_Train  \n",
       "0           0  \n",
       "1           0  \n",
       "2           0  \n",
       "3           0  \n",
       "4           0  "
      ]
     },
     "execution_count": 92,
     "metadata": {},
     "output_type": "execute_result"
    }
   ],
   "source": [
    "dummy_df = transport_df\n",
    "dummy_df['tran'] = dummy_df['transport']\n",
    "dummy_df =pd.get_dummies(transport_df,columns=['tran'])\n",
    "dummy_df.head()"
   ]
  },
  {
   "cell_type": "markdown",
   "metadata": {},
   "source": [
    "Using LogistricRegression we can calculate the odds that the three features are of a car"
   ]
  },
  {
   "cell_type": "code",
   "execution_count": 93,
   "metadata": {},
   "outputs": [
    {
     "data": {
      "text/plain": [
       "array([[9.91049134e-01, 8.95086639e-03],\n",
       "       [9.99995793e-01, 4.20692122e-06],\n",
       "       [9.90586695e-01, 9.41330468e-03],\n",
       "       [9.66889766e-01, 3.31102335e-02],\n",
       "       [9.86027989e-01, 1.39720107e-02],\n",
       "       [9.32606538e-01, 6.73934624e-02],\n",
       "       [9.99509493e-01, 4.90506985e-04],\n",
       "       [9.57314688e-01, 4.26853121e-02],\n",
       "       [9.99796973e-01, 2.03027317e-04],\n",
       "       [9.87553913e-01, 1.24460871e-02]])"
      ]
     },
     "execution_count": 93,
     "metadata": {},
     "output_type": "execute_result"
    }
   ],
   "source": [
    "from sklearn.linear_model import LogisticRegression\n",
    "\n",
    "logreg = LogisticRegression()\n",
    "\n",
    "feature_cols = ['environment','max_altitude','max_speed']\n",
    "X = dummy_df[feature_cols]\n",
    "y = dummy_df.tran_Car\n",
    "\n",
    "logreg.fit(X,y)\n",
    "pred = logreg.predict(X)\n",
    "logreg.predict_proba(X)[0:10]"
   ]
  },
  {
   "cell_type": "markdown",
   "metadata": {},
   "source": [
    "Lets put these predictions into the table"
   ]
  },
  {
   "cell_type": "code",
   "execution_count": 95,
   "metadata": {},
   "outputs": [
    {
     "data": {
      "text/html": [
       "<div>\n",
       "<style scoped>\n",
       "    .dataframe tbody tr th:only-of-type {\n",
       "        vertical-align: middle;\n",
       "    }\n",
       "\n",
       "    .dataframe tbody tr th {\n",
       "        vertical-align: top;\n",
       "    }\n",
       "\n",
       "    .dataframe thead th {\n",
       "        text-align: right;\n",
       "    }\n",
       "</style>\n",
       "<table border=\"1\" class=\"dataframe\">\n",
       "  <thead>\n",
       "    <tr style=\"text-align: right;\">\n",
       "      <th></th>\n",
       "      <th>max_speed</th>\n",
       "      <th>max_altitude</th>\n",
       "      <th>environment</th>\n",
       "      <th>transport</th>\n",
       "      <th>tran_Car</th>\n",
       "      <th>tran_Plane</th>\n",
       "      <th>tran_Train</th>\n",
       "      <th>car_pred_prob</th>\n",
       "    </tr>\n",
       "  </thead>\n",
       "  <tbody>\n",
       "    <tr>\n",
       "      <th>0</th>\n",
       "      <td>6</td>\n",
       "      <td>8</td>\n",
       "      <td>3</td>\n",
       "      <td>Plane</td>\n",
       "      <td>0</td>\n",
       "      <td>1</td>\n",
       "      <td>0</td>\n",
       "      <td>0.008951</td>\n",
       "    </tr>\n",
       "    <tr>\n",
       "      <th>1</th>\n",
       "      <td>10</td>\n",
       "      <td>9</td>\n",
       "      <td>3</td>\n",
       "      <td>Plane</td>\n",
       "      <td>0</td>\n",
       "      <td>1</td>\n",
       "      <td>0</td>\n",
       "      <td>0.000004</td>\n",
       "    </tr>\n",
       "    <tr>\n",
       "      <th>2</th>\n",
       "      <td>7</td>\n",
       "      <td>6</td>\n",
       "      <td>2</td>\n",
       "      <td>Plane</td>\n",
       "      <td>0</td>\n",
       "      <td>1</td>\n",
       "      <td>0</td>\n",
       "      <td>0.009413</td>\n",
       "    </tr>\n",
       "    <tr>\n",
       "      <th>3</th>\n",
       "      <td>7</td>\n",
       "      <td>7</td>\n",
       "      <td>0</td>\n",
       "      <td>Plane</td>\n",
       "      <td>0</td>\n",
       "      <td>1</td>\n",
       "      <td>0</td>\n",
       "      <td>0.033110</td>\n",
       "    </tr>\n",
       "    <tr>\n",
       "      <th>4</th>\n",
       "      <td>7</td>\n",
       "      <td>7</td>\n",
       "      <td>1</td>\n",
       "      <td>Plane</td>\n",
       "      <td>0</td>\n",
       "      <td>1</td>\n",
       "      <td>0</td>\n",
       "      <td>0.013972</td>\n",
       "    </tr>\n",
       "  </tbody>\n",
       "</table>\n",
       "</div>"
      ],
      "text/plain": [
       "   max_speed  max_altitude  environment transport  tran_Car  tran_Plane  \\\n",
       "0          6             8            3     Plane         0           1   \n",
       "1         10             9            3     Plane         0           1   \n",
       "2          7             6            2     Plane         0           1   \n",
       "3          7             7            0     Plane         0           1   \n",
       "4          7             7            1     Plane         0           1   \n",
       "\n",
       "   tran_Train  car_pred_prob  \n",
       "0           0       0.008951  \n",
       "1           0       0.000004  \n",
       "2           0       0.009413  \n",
       "3           0       0.033110  \n",
       "4           0       0.013972  "
      ]
     },
     "execution_count": 95,
     "metadata": {},
     "output_type": "execute_result"
    }
   ],
   "source": [
    "dummy_df['car_pred_prob'] = logreg.predict_proba(X)[:, 1]\n",
    "dummy_df.head()"
   ]
  },
  {
   "cell_type": "markdown",
   "metadata": {},
   "source": [
    "And repeat for the other two dummy columns"
   ]
  },
  {
   "cell_type": "code",
   "execution_count": 96,
   "metadata": {},
   "outputs": [],
   "source": [
    "logreg = LogisticRegression()\n",
    "\n",
    "feature_cols = ['environment','max_altitude','max_speed']\n",
    "X = dummy_df[feature_cols]\n",
    "y = dummy_df.tran_Plane\n",
    "\n",
    "logreg.fit(X,y)\n",
    "pred = logreg.predict(X)\n",
    "dummy_df['plane_pred_prob'] = logreg.predict_proba(X)[:, 1]"
   ]
  },
  {
   "cell_type": "code",
   "execution_count": 97,
   "metadata": {},
   "outputs": [],
   "source": [
    "logreg = LogisticRegression()\n",
    "\n",
    "feature_cols = ['environment','max_altitude','max_speed']\n",
    "X = dummy_df[feature_cols]\n",
    "y = dummy_df.tran_Train\n",
    "\n",
    "logreg.fit(X,y)\n",
    "pred = logreg.predict(X)\n",
    "dummy_df['train_pred_prob'] = logreg.predict_proba(X)[:, 1]"
   ]
  },
  {
   "cell_type": "markdown",
   "metadata": {},
   "source": [
    "Now we have three probabilties to show if the features predict the mode of transport is Plan, Train or Car"
   ]
  },
  {
   "cell_type": "code",
   "execution_count": 98,
   "metadata": {
    "scrolled": true
   },
   "outputs": [
    {
     "data": {
      "text/html": [
       "<div>\n",
       "<style scoped>\n",
       "    .dataframe tbody tr th:only-of-type {\n",
       "        vertical-align: middle;\n",
       "    }\n",
       "\n",
       "    .dataframe tbody tr th {\n",
       "        vertical-align: top;\n",
       "    }\n",
       "\n",
       "    .dataframe thead th {\n",
       "        text-align: right;\n",
       "    }\n",
       "</style>\n",
       "<table border=\"1\" class=\"dataframe\">\n",
       "  <thead>\n",
       "    <tr style=\"text-align: right;\">\n",
       "      <th></th>\n",
       "      <th>max_speed</th>\n",
       "      <th>max_altitude</th>\n",
       "      <th>environment</th>\n",
       "      <th>transport</th>\n",
       "      <th>tran_Car</th>\n",
       "      <th>tran_Plane</th>\n",
       "      <th>tran_Train</th>\n",
       "      <th>car_pred_prob</th>\n",
       "      <th>plane_pred_prob</th>\n",
       "      <th>train_pred_prob</th>\n",
       "    </tr>\n",
       "  </thead>\n",
       "  <tbody>\n",
       "    <tr>\n",
       "      <th>0</th>\n",
       "      <td>6</td>\n",
       "      <td>8</td>\n",
       "      <td>3</td>\n",
       "      <td>Plane</td>\n",
       "      <td>0</td>\n",
       "      <td>1</td>\n",
       "      <td>0</td>\n",
       "      <td>0.008951</td>\n",
       "      <td>0.975837</td>\n",
       "      <td>0.000854</td>\n",
       "    </tr>\n",
       "    <tr>\n",
       "      <th>1</th>\n",
       "      <td>10</td>\n",
       "      <td>9</td>\n",
       "      <td>3</td>\n",
       "      <td>Plane</td>\n",
       "      <td>0</td>\n",
       "      <td>1</td>\n",
       "      <td>0</td>\n",
       "      <td>0.000004</td>\n",
       "      <td>0.997697</td>\n",
       "      <td>0.028572</td>\n",
       "    </tr>\n",
       "    <tr>\n",
       "      <th>2</th>\n",
       "      <td>7</td>\n",
       "      <td>6</td>\n",
       "      <td>2</td>\n",
       "      <td>Plane</td>\n",
       "      <td>0</td>\n",
       "      <td>1</td>\n",
       "      <td>0</td>\n",
       "      <td>0.009413</td>\n",
       "      <td>0.943339</td>\n",
       "      <td>0.000847</td>\n",
       "    </tr>\n",
       "    <tr>\n",
       "      <th>3</th>\n",
       "      <td>7</td>\n",
       "      <td>7</td>\n",
       "      <td>0</td>\n",
       "      <td>Plane</td>\n",
       "      <td>0</td>\n",
       "      <td>1</td>\n",
       "      <td>0</td>\n",
       "      <td>0.033110</td>\n",
       "      <td>0.988197</td>\n",
       "      <td>0.000018</td>\n",
       "    </tr>\n",
       "    <tr>\n",
       "      <th>4</th>\n",
       "      <td>7</td>\n",
       "      <td>7</td>\n",
       "      <td>1</td>\n",
       "      <td>Plane</td>\n",
       "      <td>0</td>\n",
       "      <td>1</td>\n",
       "      <td>0</td>\n",
       "      <td>0.013972</td>\n",
       "      <td>0.982634</td>\n",
       "      <td>0.000101</td>\n",
       "    </tr>\n",
       "  </tbody>\n",
       "</table>\n",
       "</div>"
      ],
      "text/plain": [
       "   max_speed  max_altitude  environment transport  tran_Car  tran_Plane  \\\n",
       "0          6             8            3     Plane         0           1   \n",
       "1         10             9            3     Plane         0           1   \n",
       "2          7             6            2     Plane         0           1   \n",
       "3          7             7            0     Plane         0           1   \n",
       "4          7             7            1     Plane         0           1   \n",
       "\n",
       "   tran_Train  car_pred_prob  plane_pred_prob  train_pred_prob  \n",
       "0           0       0.008951         0.975837         0.000854  \n",
       "1           0       0.000004         0.997697         0.028572  \n",
       "2           0       0.009413         0.943339         0.000847  \n",
       "3           0       0.033110         0.988197         0.000018  \n",
       "4           0       0.013972         0.982634         0.000101  "
      ]
     },
     "execution_count": 98,
     "metadata": {},
     "output_type": "execute_result"
    }
   ],
   "source": [
    "dummy_df.head()"
   ]
  },
  {
   "cell_type": "markdown",
   "metadata": {},
   "source": [
    "The biggest probability is most likely going to be right, so adda new column (pred_outcome) with the relevant name"
   ]
  },
  {
   "cell_type": "code",
   "execution_count": 99,
   "metadata": {
    "scrolled": true
   },
   "outputs": [
    {
     "data": {
      "text/html": [
       "<div>\n",
       "<style scoped>\n",
       "    .dataframe tbody tr th:only-of-type {\n",
       "        vertical-align: middle;\n",
       "    }\n",
       "\n",
       "    .dataframe tbody tr th {\n",
       "        vertical-align: top;\n",
       "    }\n",
       "\n",
       "    .dataframe thead th {\n",
       "        text-align: right;\n",
       "    }\n",
       "</style>\n",
       "<table border=\"1\" class=\"dataframe\">\n",
       "  <thead>\n",
       "    <tr style=\"text-align: right;\">\n",
       "      <th></th>\n",
       "      <th>max_speed</th>\n",
       "      <th>max_altitude</th>\n",
       "      <th>environment</th>\n",
       "      <th>transport</th>\n",
       "      <th>tran_Car</th>\n",
       "      <th>tran_Plane</th>\n",
       "      <th>tran_Train</th>\n",
       "      <th>car_pred_prob</th>\n",
       "      <th>plane_pred_prob</th>\n",
       "      <th>train_pred_prob</th>\n",
       "      <th>pred_outcome</th>\n",
       "    </tr>\n",
       "  </thead>\n",
       "  <tbody>\n",
       "    <tr>\n",
       "      <th>0</th>\n",
       "      <td>6</td>\n",
       "      <td>8</td>\n",
       "      <td>3</td>\n",
       "      <td>Plane</td>\n",
       "      <td>0</td>\n",
       "      <td>1</td>\n",
       "      <td>0</td>\n",
       "      <td>0.008951</td>\n",
       "      <td>0.975837</td>\n",
       "      <td>0.000854</td>\n",
       "      <td>Plane</td>\n",
       "    </tr>\n",
       "    <tr>\n",
       "      <th>1</th>\n",
       "      <td>10</td>\n",
       "      <td>9</td>\n",
       "      <td>3</td>\n",
       "      <td>Plane</td>\n",
       "      <td>0</td>\n",
       "      <td>1</td>\n",
       "      <td>0</td>\n",
       "      <td>0.000004</td>\n",
       "      <td>0.997697</td>\n",
       "      <td>0.028572</td>\n",
       "      <td>Plane</td>\n",
       "    </tr>\n",
       "    <tr>\n",
       "      <th>2</th>\n",
       "      <td>7</td>\n",
       "      <td>6</td>\n",
       "      <td>2</td>\n",
       "      <td>Plane</td>\n",
       "      <td>0</td>\n",
       "      <td>1</td>\n",
       "      <td>0</td>\n",
       "      <td>0.009413</td>\n",
       "      <td>0.943339</td>\n",
       "      <td>0.000847</td>\n",
       "      <td>Plane</td>\n",
       "    </tr>\n",
       "    <tr>\n",
       "      <th>3</th>\n",
       "      <td>7</td>\n",
       "      <td>7</td>\n",
       "      <td>0</td>\n",
       "      <td>Plane</td>\n",
       "      <td>0</td>\n",
       "      <td>1</td>\n",
       "      <td>0</td>\n",
       "      <td>0.033110</td>\n",
       "      <td>0.988197</td>\n",
       "      <td>0.000018</td>\n",
       "      <td>Plane</td>\n",
       "    </tr>\n",
       "    <tr>\n",
       "      <th>4</th>\n",
       "      <td>7</td>\n",
       "      <td>7</td>\n",
       "      <td>1</td>\n",
       "      <td>Plane</td>\n",
       "      <td>0</td>\n",
       "      <td>1</td>\n",
       "      <td>0</td>\n",
       "      <td>0.013972</td>\n",
       "      <td>0.982634</td>\n",
       "      <td>0.000101</td>\n",
       "      <td>Plane</td>\n",
       "    </tr>\n",
       "    <tr>\n",
       "      <th>...</th>\n",
       "      <td>...</td>\n",
       "      <td>...</td>\n",
       "      <td>...</td>\n",
       "      <td>...</td>\n",
       "      <td>...</td>\n",
       "      <td>...</td>\n",
       "      <td>...</td>\n",
       "      <td>...</td>\n",
       "      <td>...</td>\n",
       "      <td>...</td>\n",
       "      <td>...</td>\n",
       "    </tr>\n",
       "    <tr>\n",
       "      <th>56</th>\n",
       "      <td>3</td>\n",
       "      <td>0</td>\n",
       "      <td>6</td>\n",
       "      <td>Car</td>\n",
       "      <td>1</td>\n",
       "      <td>0</td>\n",
       "      <td>0</td>\n",
       "      <td>0.869920</td>\n",
       "      <td>0.005038</td>\n",
       "      <td>0.150043</td>\n",
       "      <td>Car</td>\n",
       "    </tr>\n",
       "    <tr>\n",
       "      <th>57</th>\n",
       "      <td>1</td>\n",
       "      <td>1</td>\n",
       "      <td>7</td>\n",
       "      <td>Car</td>\n",
       "      <td>1</td>\n",
       "      <td>0</td>\n",
       "      <td>0</td>\n",
       "      <td>0.984164</td>\n",
       "      <td>0.003624</td>\n",
       "      <td>0.088956</td>\n",
       "      <td>Car</td>\n",
       "    </tr>\n",
       "    <tr>\n",
       "      <th>58</th>\n",
       "      <td>1</td>\n",
       "      <td>0</td>\n",
       "      <td>5</td>\n",
       "      <td>Car</td>\n",
       "      <td>1</td>\n",
       "      <td>0</td>\n",
       "      <td>0</td>\n",
       "      <td>0.998303</td>\n",
       "      <td>0.003455</td>\n",
       "      <td>0.004329</td>\n",
       "      <td>Car</td>\n",
       "    </tr>\n",
       "    <tr>\n",
       "      <th>59</th>\n",
       "      <td>2</td>\n",
       "      <td>3</td>\n",
       "      <td>6</td>\n",
       "      <td>Car</td>\n",
       "      <td>1</td>\n",
       "      <td>0</td>\n",
       "      <td>0</td>\n",
       "      <td>0.904560</td>\n",
       "      <td>0.040073</td>\n",
       "      <td>0.020826</td>\n",
       "      <td>Car</td>\n",
       "    </tr>\n",
       "    <tr>\n",
       "      <th>60</th>\n",
       "      <td>4</td>\n",
       "      <td>2</td>\n",
       "      <td>7</td>\n",
       "      <td>Plane</td>\n",
       "      <td>0</td>\n",
       "      <td>1</td>\n",
       "      <td>0</td>\n",
       "      <td>0.148673</td>\n",
       "      <td>0.025858</td>\n",
       "      <td>0.557827</td>\n",
       "      <td>Train</td>\n",
       "    </tr>\n",
       "  </tbody>\n",
       "</table>\n",
       "<p>61 rows × 11 columns</p>\n",
       "</div>"
      ],
      "text/plain": [
       "    max_speed  max_altitude  environment transport  tran_Car  tran_Plane  \\\n",
       "0           6             8            3     Plane         0           1   \n",
       "1          10             9            3     Plane         0           1   \n",
       "2           7             6            2     Plane         0           1   \n",
       "3           7             7            0     Plane         0           1   \n",
       "4           7             7            1     Plane         0           1   \n",
       "..        ...           ...          ...       ...       ...         ...   \n",
       "56          3             0            6       Car         1           0   \n",
       "57          1             1            7       Car         1           0   \n",
       "58          1             0            5       Car         1           0   \n",
       "59          2             3            6       Car         1           0   \n",
       "60          4             2            7     Plane         0           1   \n",
       "\n",
       "    tran_Train  car_pred_prob  plane_pred_prob  train_pred_prob pred_outcome  \n",
       "0            0       0.008951         0.975837         0.000854        Plane  \n",
       "1            0       0.000004         0.997697         0.028572        Plane  \n",
       "2            0       0.009413         0.943339         0.000847        Plane  \n",
       "3            0       0.033110         0.988197         0.000018        Plane  \n",
       "4            0       0.013972         0.982634         0.000101        Plane  \n",
       "..         ...            ...              ...              ...          ...  \n",
       "56           0       0.869920         0.005038         0.150043          Car  \n",
       "57           0       0.984164         0.003624         0.088956          Car  \n",
       "58           0       0.998303         0.003455         0.004329          Car  \n",
       "59           0       0.904560         0.040073         0.020826          Car  \n",
       "60           0       0.148673         0.025858         0.557827        Train  \n",
       "\n",
       "[61 rows x 11 columns]"
      ]
     },
     "execution_count": 99,
     "metadata": {},
     "output_type": "execute_result"
    }
   ],
   "source": [
    "import numpy as np\n",
    "\n",
    "dummy_df.loc[(dummy_df['car_pred_prob'] > dummy_df['plane_pred_prob']) & (dummy_df['car_pred_prob'] > dummy_df['train_pred_prob']) , 'pred_outcome'] = 'Car' \n",
    "dummy_df.loc[(dummy_df['plane_pred_prob'] > dummy_df['car_pred_prob']) & (dummy_df['plane_pred_prob'] > dummy_df['train_pred_prob']) , 'pred_outcome'] = 'Plane' \n",
    "dummy_df.loc[(dummy_df['train_pred_prob'] > dummy_df['car_pred_prob']) & (dummy_df['train_pred_prob'] > dummy_df['plane_pred_prob']) , 'pred_outcome'] = 'Train' \n",
    "dummy_df"
   ]
  },
  {
   "cell_type": "markdown",
   "metadata": {},
   "source": [
    "We have correctly predicted 60 of the 61 records."
   ]
  },
  {
   "cell_type": "markdown",
   "metadata": {},
   "source": [
    "The last record was intentionally mislabelled as Plane. The model correctly did not predicted a Plane.\n",
    "\n",
    "It should have actually predicted a Car! But the random numbers picked the highest possible value for Speed and Environment, which is also the lowest possible value for Train.\n",
    "I am surprised it the prediction possibility was so different (14% v 55%) but I think this is because my data only had a few data points"
   ]
  },
  {
   "cell_type": "code",
   "execution_count": 108,
   "metadata": {},
   "outputs": [
    {
     "data": {
      "text/plain": [
       "False     1\n",
       "True     60\n",
       "Name: pred_correct, dtype: int64"
      ]
     },
     "execution_count": 108,
     "metadata": {},
     "output_type": "execute_result"
    }
   ],
   "source": [
    "dummy_df['pred_correct'] = (dummy_df.transport == dummy_df.pred_outcome)\n",
    "dummy_df.pred_correct.value_counts().sort_index()"
   ]
  }
 ],
 "metadata": {
  "kernelspec": {
   "display_name": "Python 3",
   "language": "python",
   "name": "python3"
  },
  "language_info": {
   "codemirror_mode": {
    "name": "ipython",
    "version": 3
   },
   "file_extension": ".py",
   "mimetype": "text/x-python",
   "name": "python",
   "nbconvert_exporter": "python",
   "pygments_lexer": "ipython3",
   "version": "3.8.5"
  }
 },
 "nbformat": 4,
 "nbformat_minor": 4
}
